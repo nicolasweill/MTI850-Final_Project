{
 "cells": [
  {
   "cell_type": "markdown",
   "id": "c0283065-c1ad-48f9-af94-267ec30f77ca",
   "metadata": {},
   "source": [
    "# Jigsaw Unintended Bias in Toxicity Classification"
   ]
  },
  {
   "cell_type": "code",
   "execution_count": 1,
   "id": "08612a30-29ab-4303-aeff-01a779e30189",
   "metadata": {},
   "outputs": [
    {
     "name": "stderr",
     "output_type": "stream",
     "text": [
      "WARNING: Using incubator modules: jdk.incubator.vector\n",
      "Using Spark's default log4j profile: org/apache/spark/log4j2-defaults.properties\n",
      "Setting default log level to \"WARN\".\n",
      "To adjust logging level use sc.setLogLevel(newLevel). For SparkR, use setLogLevel(newLevel).\n",
      "25/10/28 18:15:29 WARN NativeCodeLoader: Unable to load native-hadoop library for your platform... using builtin-java classes where applicable\n"
     ]
    }
   ],
   "source": [
    "import findspark\n",
    "findspark.init()\n",
    "\n",
    "import pyspark\n",
    "from pyspark.sql import SparkSession\n",
    "\n",
    "spark = SparkSession.builder \\\n",
    ".master(\"local\") \\\n",
    ".master(\"local[*]\") \\\n",
    ".appName(\"Jigsaw Unintended Bias in Toxicity Classification\") \\\n",
    ".config(\"spark.driver.memory\", \"8g\") \\\n",
    ".config(\"spark.executor.memory\", \"8g\") \\\n",
    ".config(\"spark.some.config.option\", \"some-value\") \\\n",
    ".getOrCreate()"
   ]
  },
  {
   "cell_type": "code",
   "execution_count": 2,
   "id": "e9d08f69-19db-4143-b648-cdd6014a1789",
   "metadata": {},
   "outputs": [],
   "source": [
    "import matplotlib.pyplot as plt\n",
    "from pyspark.sql.functions import isnan"
   ]
  },
  {
   "cell_type": "markdown",
   "id": "a2c97f8c-857a-4f31-bbd4-052b28363ec7",
   "metadata": {},
   "source": [
    "## 1. Chargement et inspection des données"
   ]
  },
  {
   "cell_type": "code",
   "execution_count": 3,
   "id": "dde8df37-c0d7-4062-b4f8-6800a808b477",
   "metadata": {},
   "outputs": [
    {
     "name": "stderr",
     "output_type": "stream",
     "text": [
      "                                                                                "
     ]
    },
    {
     "name": "stdout",
     "output_type": "stream",
     "text": [
      "+-----+------------------+------------------------------------------------------------------------------------------------------------------+\n",
      "|id   |target            |comment_text                                                                                                      |\n",
      "+-----+------------------+------------------------------------------------------------------------------------------------------------------+\n",
      "|59848|0.0               |This is so cool. It's like, 'would you want your mother to read this??' Really great idea, well done!             |\n",
      "|59849|0.0               |Thank you!! This would make my life a lot less anxiety-inducing. Keep it up, and don't let anyone get in your way!|\n",
      "|59852|0.0               |This is such an urgent design problem; kudos to you for taking it on. Very impressive!                            |\n",
      "|59855|0.0               |Is this something I'll be able to install on my site? When will you be releasing it?                              |\n",
      "|59856|0.8936170212765957|haha you guys are a bunch of losers.                                                                              |\n",
      "+-----+------------------+------------------------------------------------------------------------------------------------------------------+\n",
      "only showing top 5 rows\n"
     ]
    }
   ],
   "source": [
    "train = spark.read.csv('train.csv', header=True, inferSchema=True)\n",
    "train.select(\"id\", \"target\", \"comment_text\").show(5, truncate=False) # pas toutes les colonnes sinon illible "
   ]
  },
  {
   "cell_type": "code",
   "execution_count": 4,
   "id": "e5d3d753-d10a-4997-af16-9b7e179ed349",
   "metadata": {},
   "outputs": [
    {
     "name": "stdout",
     "output_type": "stream",
     "text": [
      "root\n",
      " |-- id: string (nullable = true)\n",
      " |-- target: string (nullable = true)\n",
      " |-- comment_text: string (nullable = true)\n",
      " |-- severe_toxicity: string (nullable = true)\n",
      " |-- obscene: string (nullable = true)\n",
      " |-- identity_attack: string (nullable = true)\n",
      " |-- insult: string (nullable = true)\n",
      " |-- threat: string (nullable = true)\n",
      " |-- asian: string (nullable = true)\n",
      " |-- atheist: string (nullable = true)\n",
      " |-- bisexual: string (nullable = true)\n",
      " |-- black: string (nullable = true)\n",
      " |-- buddhist: string (nullable = true)\n",
      " |-- christian: string (nullable = true)\n",
      " |-- female: string (nullable = true)\n",
      " |-- heterosexual: string (nullable = true)\n",
      " |-- hindu: string (nullable = true)\n",
      " |-- homosexual_gay_or_lesbian: string (nullable = true)\n",
      " |-- intellectual_or_learning_disability: string (nullable = true)\n",
      " |-- jewish: string (nullable = true)\n",
      " |-- latino: string (nullable = true)\n",
      " |-- male: string (nullable = true)\n",
      " |-- muslim: string (nullable = true)\n",
      " |-- other_disability: string (nullable = true)\n",
      " |-- other_gender: string (nullable = true)\n",
      " |-- other_race_or_ethnicity: string (nullable = true)\n",
      " |-- other_religion: string (nullable = true)\n",
      " |-- other_sexual_orientation: string (nullable = true)\n",
      " |-- physical_disability: string (nullable = true)\n",
      " |-- psychiatric_or_mental_illness: string (nullable = true)\n",
      " |-- transgender: string (nullable = true)\n",
      " |-- white: string (nullable = true)\n",
      " |-- created_date: string (nullable = true)\n",
      " |-- publication_id: string (nullable = true)\n",
      " |-- parent_id: string (nullable = true)\n",
      " |-- article_id: string (nullable = true)\n",
      " |-- rating: string (nullable = true)\n",
      " |-- funny: string (nullable = true)\n",
      " |-- wow: string (nullable = true)\n",
      " |-- sad: string (nullable = true)\n",
      " |-- likes: string (nullable = true)\n",
      " |-- disagree: string (nullable = true)\n",
      " |-- sexual_explicit: string (nullable = true)\n",
      " |-- identity_annotator_count: string (nullable = true)\n",
      " |-- toxicity_annotator_count: string (nullable = true)\n",
      "\n"
     ]
    }
   ],
   "source": [
    "train.printSchema()"
   ]
  },
  {
   "cell_type": "code",
   "execution_count": 5,
   "id": "a137bc25-c026-43b3-91fe-894358a919d1",
   "metadata": {},
   "outputs": [
    {
     "name": "stderr",
     "output_type": "stream",
     "text": [
      "                                                                                "
     ]
    },
    {
     "name": "stdout",
     "output_type": "stream",
     "text": [
      "nombre de lignes : 3053644\n",
      "nombre de colonnes : 45\n"
     ]
    },
    {
     "name": "stderr",
     "output_type": "stream",
     "text": [
      "25/10/28 18:15:43 WARN SparkStringUtils: Truncated the string representation of a plan since it was too large. This behavior can be adjusted by setting 'spark.sql.debug.maxToStringFields'.\n",
      "[Stage 6:==========================================>                (5 + 2) / 7]"
     ]
    },
    {
     "name": "stdout",
     "output_type": "stream",
     "text": [
      "+-------+-----------------+------------------+-------------------+------------------+\n",
      "|summary|           target|   severe_toxicity|            obscene|            insult|\n",
      "+-------+-----------------+------------------+-------------------+------------------+\n",
      "|  count|          2675011|           1952476|            1884541|           1599964|\n",
      "|   mean| 1.39617704209127|0.5229622220223501|0.27979058176251326|0.1588871465791632|\n",
      "| stddev|95.57281390041796| 29.97467979690922| 20.856200441619187|12.442404028199363|\n",
      "|    min|               \\t|                  |                   |                  |\n",
      "|    max|              😀\"|        … you know|   … heroes three.\"|            ”. Wow|\n",
      "+-------+-----------------+------------------+-------------------+------------------+\n",
      "\n"
     ]
    },
    {
     "name": "stderr",
     "output_type": "stream",
     "text": [
      "                                                                                "
     ]
    }
   ],
   "source": [
    "print(f\"nombre de lignes : {train.count()}\")\n",
    "print(f\"nombre de colonnes : {len(train.columns)}\")\n",
    "train.describe(['target', 'severe_toxicity', 'obscene', 'insult']).show()"
   ]
  },
  {
   "cell_type": "markdown",
   "id": "185b9393-a4b8-473e-913a-acf08bf971ef",
   "metadata": {},
   "source": [
    "Problème : on a des données non numériques dans ces colonnes --> données mal parsées --> on vérifie dans le schéma : type string au lieu d'un type numérique, ce qui confirme notre intuition"
   ]
  },
  {
   "cell_type": "code",
   "execution_count": 6,
   "id": "a882c68b-3a17-4238-97fe-725c8a50fd14",
   "metadata": {},
   "outputs": [
    {
     "name": "stderr",
     "output_type": "stream",
     "text": [
      "                                                                                "
     ]
    }
   ],
   "source": [
    "train = (\n",
    "    spark.read.format(\"csv\")\n",
    "    .option(\"header\", True)\n",
    "    .option(\"inferSchema\", True)\n",
    "    .option(\"multiLine\", True) # commentaires multilignes\n",
    "    .option(\"escape\", \"\\\"\") # les \" internes à un comment ne ferment pas le champ\n",
    "    .load(\"train.csv\")\n",
    ")"
   ]
  },
  {
   "cell_type": "code",
   "execution_count": 7,
   "id": "455827ae-dd1a-460d-aa6d-09319b9f9d9a",
   "metadata": {},
   "outputs": [
    {
     "name": "stdout",
     "output_type": "stream",
     "text": [
      "root\n",
      " |-- id: integer (nullable = true)\n",
      " |-- target: double (nullable = true)\n",
      " |-- comment_text: string (nullable = true)\n",
      " |-- severe_toxicity: double (nullable = true)\n",
      " |-- obscene: double (nullable = true)\n",
      " |-- identity_attack: double (nullable = true)\n",
      " |-- insult: double (nullable = true)\n",
      " |-- threat: double (nullable = true)\n",
      " |-- asian: double (nullable = true)\n",
      " |-- atheist: double (nullable = true)\n",
      " |-- bisexual: double (nullable = true)\n",
      " |-- black: double (nullable = true)\n",
      " |-- buddhist: double (nullable = true)\n",
      " |-- christian: double (nullable = true)\n",
      " |-- female: double (nullable = true)\n",
      " |-- heterosexual: double (nullable = true)\n",
      " |-- hindu: double (nullable = true)\n",
      " |-- homosexual_gay_or_lesbian: double (nullable = true)\n",
      " |-- intellectual_or_learning_disability: double (nullable = true)\n",
      " |-- jewish: double (nullable = true)\n",
      " |-- latino: double (nullable = true)\n",
      " |-- male: double (nullable = true)\n",
      " |-- muslim: double (nullable = true)\n",
      " |-- other_disability: double (nullable = true)\n",
      " |-- other_gender: double (nullable = true)\n",
      " |-- other_race_or_ethnicity: double (nullable = true)\n",
      " |-- other_religion: double (nullable = true)\n",
      " |-- other_sexual_orientation: double (nullable = true)\n",
      " |-- physical_disability: double (nullable = true)\n",
      " |-- psychiatric_or_mental_illness: double (nullable = true)\n",
      " |-- transgender: double (nullable = true)\n",
      " |-- white: double (nullable = true)\n",
      " |-- created_date: timestamp (nullable = true)\n",
      " |-- publication_id: integer (nullable = true)\n",
      " |-- parent_id: double (nullable = true)\n",
      " |-- article_id: integer (nullable = true)\n",
      " |-- rating: string (nullable = true)\n",
      " |-- funny: integer (nullable = true)\n",
      " |-- wow: integer (nullable = true)\n",
      " |-- sad: integer (nullable = true)\n",
      " |-- likes: integer (nullable = true)\n",
      " |-- disagree: integer (nullable = true)\n",
      " |-- sexual_explicit: double (nullable = true)\n",
      " |-- identity_annotator_count: integer (nullable = true)\n",
      " |-- toxicity_annotator_count: integer (nullable = true)\n",
      "\n"
     ]
    }
   ],
   "source": [
    "train.printSchema()"
   ]
  },
  {
   "cell_type": "code",
   "execution_count": 8,
   "id": "a0b92e50-5dd7-4e3f-a21d-a61fb163ec7e",
   "metadata": {},
   "outputs": [
    {
     "name": "stderr",
     "output_type": "stream",
     "text": [
      "                                                                                "
     ]
    },
    {
     "name": "stdout",
     "output_type": "stream",
     "text": [
      "nombre de lignes : 1804874\n",
      "nombre de colonnes : 45\n"
     ]
    },
    {
     "name": "stderr",
     "output_type": "stream",
     "text": [
      "[Stage 14:>                                                         (0 + 1) / 1]"
     ]
    },
    {
     "name": "stdout",
     "output_type": "stream",
     "text": [
      "+-------+-------------------+--------------------+--------------------+-------------------+\n",
      "|summary|             target|     severe_toxicity|             obscene|             insult|\n",
      "+-------+-------------------+--------------------+--------------------+-------------------+\n",
      "|  count|            1804874|             1804874|             1804874|            1804874|\n",
      "|   mean|0.10301729306264126|0.004582098790397937|0.013877209195019816|0.08115273414475882|\n",
      "| stddev|0.19707574479033887| 0.02286128244247058|  0.0646041914397229|0.17606571372957508|\n",
      "|    min|                0.0|                 0.0|                 0.0|                0.0|\n",
      "|    max|                1.0|                 1.0|                 1.0|                1.0|\n",
      "+-------+-------------------+--------------------+--------------------+-------------------+\n",
      "\n"
     ]
    },
    {
     "name": "stderr",
     "output_type": "stream",
     "text": [
      "                                                                                "
     ]
    }
   ],
   "source": [
    "print(f\"nombre de lignes : {train.count()}\")\n",
    "print(f\"nombre de colonnes : {len(train.columns)}\")\n",
    "train.describe(['target', 'severe_toxicity', 'obscene', 'insult']).show()"
   ]
  },
  {
   "cell_type": "code",
   "execution_count": 9,
   "id": "e8f30f08-cdcf-4c25-87c6-9e00b4da3006",
   "metadata": {},
   "outputs": [
    {
     "data": {
      "text/html": [
       "<div>\n",
       "<style scoped>\n",
       "    .dataframe tbody tr th:only-of-type {\n",
       "        vertical-align: middle;\n",
       "    }\n",
       "\n",
       "    .dataframe tbody tr th {\n",
       "        vertical-align: top;\n",
       "    }\n",
       "\n",
       "    .dataframe thead th {\n",
       "        text-align: right;\n",
       "    }\n",
       "</style>\n",
       "<table border=\"1\" class=\"dataframe\">\n",
       "  <thead>\n",
       "    <tr style=\"text-align: right;\">\n",
       "      <th></th>\n",
       "      <th>id</th>\n",
       "      <th>target</th>\n",
       "      <th>comment_text</th>\n",
       "      <th>severe_toxicity</th>\n",
       "      <th>obscene</th>\n",
       "      <th>identity_attack</th>\n",
       "      <th>insult</th>\n",
       "      <th>threat</th>\n",
       "      <th>asian</th>\n",
       "      <th>atheist</th>\n",
       "      <th>...</th>\n",
       "      <th>article_id</th>\n",
       "      <th>rating</th>\n",
       "      <th>funny</th>\n",
       "      <th>wow</th>\n",
       "      <th>sad</th>\n",
       "      <th>likes</th>\n",
       "      <th>disagree</th>\n",
       "      <th>sexual_explicit</th>\n",
       "      <th>identity_annotator_count</th>\n",
       "      <th>toxicity_annotator_count</th>\n",
       "    </tr>\n",
       "  </thead>\n",
       "  <tbody>\n",
       "    <tr>\n",
       "      <th>0</th>\n",
       "      <td>59848</td>\n",
       "      <td>0.000000</td>\n",
       "      <td>This is so cool. It's like, 'would you want yo...</td>\n",
       "      <td>0.000000</td>\n",
       "      <td>0.0</td>\n",
       "      <td>0.000000</td>\n",
       "      <td>0.00000</td>\n",
       "      <td>0.0</td>\n",
       "      <td>NaN</td>\n",
       "      <td>NaN</td>\n",
       "      <td>...</td>\n",
       "      <td>2006</td>\n",
       "      <td>rejected</td>\n",
       "      <td>0</td>\n",
       "      <td>0</td>\n",
       "      <td>0</td>\n",
       "      <td>0</td>\n",
       "      <td>0</td>\n",
       "      <td>0.0</td>\n",
       "      <td>0</td>\n",
       "      <td>4</td>\n",
       "    </tr>\n",
       "    <tr>\n",
       "      <th>1</th>\n",
       "      <td>59849</td>\n",
       "      <td>0.000000</td>\n",
       "      <td>Thank you!! This would make my life a lot less...</td>\n",
       "      <td>0.000000</td>\n",
       "      <td>0.0</td>\n",
       "      <td>0.000000</td>\n",
       "      <td>0.00000</td>\n",
       "      <td>0.0</td>\n",
       "      <td>NaN</td>\n",
       "      <td>NaN</td>\n",
       "      <td>...</td>\n",
       "      <td>2006</td>\n",
       "      <td>rejected</td>\n",
       "      <td>0</td>\n",
       "      <td>0</td>\n",
       "      <td>0</td>\n",
       "      <td>0</td>\n",
       "      <td>0</td>\n",
       "      <td>0.0</td>\n",
       "      <td>0</td>\n",
       "      <td>4</td>\n",
       "    </tr>\n",
       "    <tr>\n",
       "      <th>2</th>\n",
       "      <td>59852</td>\n",
       "      <td>0.000000</td>\n",
       "      <td>This is such an urgent design problem; kudos t...</td>\n",
       "      <td>0.000000</td>\n",
       "      <td>0.0</td>\n",
       "      <td>0.000000</td>\n",
       "      <td>0.00000</td>\n",
       "      <td>0.0</td>\n",
       "      <td>NaN</td>\n",
       "      <td>NaN</td>\n",
       "      <td>...</td>\n",
       "      <td>2006</td>\n",
       "      <td>rejected</td>\n",
       "      <td>0</td>\n",
       "      <td>0</td>\n",
       "      <td>0</td>\n",
       "      <td>0</td>\n",
       "      <td>0</td>\n",
       "      <td>0.0</td>\n",
       "      <td>0</td>\n",
       "      <td>4</td>\n",
       "    </tr>\n",
       "    <tr>\n",
       "      <th>3</th>\n",
       "      <td>59855</td>\n",
       "      <td>0.000000</td>\n",
       "      <td>Is this something I'll be able to install on m...</td>\n",
       "      <td>0.000000</td>\n",
       "      <td>0.0</td>\n",
       "      <td>0.000000</td>\n",
       "      <td>0.00000</td>\n",
       "      <td>0.0</td>\n",
       "      <td>NaN</td>\n",
       "      <td>NaN</td>\n",
       "      <td>...</td>\n",
       "      <td>2006</td>\n",
       "      <td>rejected</td>\n",
       "      <td>0</td>\n",
       "      <td>0</td>\n",
       "      <td>0</td>\n",
       "      <td>0</td>\n",
       "      <td>0</td>\n",
       "      <td>0.0</td>\n",
       "      <td>0</td>\n",
       "      <td>4</td>\n",
       "    </tr>\n",
       "    <tr>\n",
       "      <th>4</th>\n",
       "      <td>59856</td>\n",
       "      <td>0.893617</td>\n",
       "      <td>haha you guys are a bunch of losers.</td>\n",
       "      <td>0.021277</td>\n",
       "      <td>0.0</td>\n",
       "      <td>0.021277</td>\n",
       "      <td>0.87234</td>\n",
       "      <td>0.0</td>\n",
       "      <td>0.0</td>\n",
       "      <td>0.0</td>\n",
       "      <td>...</td>\n",
       "      <td>2006</td>\n",
       "      <td>rejected</td>\n",
       "      <td>0</td>\n",
       "      <td>0</td>\n",
       "      <td>0</td>\n",
       "      <td>1</td>\n",
       "      <td>0</td>\n",
       "      <td>0.0</td>\n",
       "      <td>4</td>\n",
       "      <td>47</td>\n",
       "    </tr>\n",
       "  </tbody>\n",
       "</table>\n",
       "<p>5 rows × 45 columns</p>\n",
       "</div>"
      ],
      "text/plain": [
       "      id    target                                       comment_text  \\\n",
       "0  59848  0.000000  This is so cool. It's like, 'would you want yo...   \n",
       "1  59849  0.000000  Thank you!! This would make my life a lot less...   \n",
       "2  59852  0.000000  This is such an urgent design problem; kudos t...   \n",
       "3  59855  0.000000  Is this something I'll be able to install on m...   \n",
       "4  59856  0.893617               haha you guys are a bunch of losers.   \n",
       "\n",
       "   severe_toxicity  obscene  identity_attack   insult  threat  asian  atheist  \\\n",
       "0         0.000000      0.0         0.000000  0.00000     0.0    NaN      NaN   \n",
       "1         0.000000      0.0         0.000000  0.00000     0.0    NaN      NaN   \n",
       "2         0.000000      0.0         0.000000  0.00000     0.0    NaN      NaN   \n",
       "3         0.000000      0.0         0.000000  0.00000     0.0    NaN      NaN   \n",
       "4         0.021277      0.0         0.021277  0.87234     0.0    0.0      0.0   \n",
       "\n",
       "   ...  article_id    rating  funny  wow  sad  likes  disagree  \\\n",
       "0  ...        2006  rejected      0    0    0      0         0   \n",
       "1  ...        2006  rejected      0    0    0      0         0   \n",
       "2  ...        2006  rejected      0    0    0      0         0   \n",
       "3  ...        2006  rejected      0    0    0      0         0   \n",
       "4  ...        2006  rejected      0    0    0      1         0   \n",
       "\n",
       "   sexual_explicit  identity_annotator_count  toxicity_annotator_count  \n",
       "0              0.0                         0                         4  \n",
       "1              0.0                         0                         4  \n",
       "2              0.0                         0                         4  \n",
       "3              0.0                         0                         4  \n",
       "4              0.0                         4                        47  \n",
       "\n",
       "[5 rows x 45 columns]"
      ]
     },
     "execution_count": 9,
     "metadata": {},
     "output_type": "execute_result"
    }
   ],
   "source": [
    "train.limit(20).toPandas().head()"
   ]
  },
  {
   "cell_type": "code",
   "execution_count": 10,
   "id": "588afbbb-3dc8-42be-a303-143c086f38be",
   "metadata": {},
   "outputs": [],
   "source": [
    "def describe_col(spark_df, col, bins = 50):\n",
    "    \"\"\"\n",
    "    Affiche la distribution d'une col numerique + nb valeurs manquantes\n",
    "    \"\"\"\n",
    "    data = spark_df.select(col).toPandas()\n",
    "    \n",
    "    plt.figure(figsize=(8, 5))\n",
    "    plt.hist(data[col], bins=bins, edgecolor='black')\n",
    "    plt.title(f\"Distribution de '{col}'\")\n",
    "    plt.xlabel(col)\n",
    "    plt.ylabel(\"Fréquence\")\n",
    "    plt.grid(True, alpha=0.3)\n",
    "    plt.show()\n",
    "\n",
    "    tot = spark_df.count()\n",
    "    missing = spark_df.filter((spark_df[col].isNull()) | (isnan(spark_df[col]))).count()\n",
    "    missing_pct = (missing / tot) * 100\n",
    "    print(f\"Valeurs manquantes : {missing} / {tot} ({missing_pct:.2f}%)\")"
   ]
  },
  {
   "cell_type": "code",
   "execution_count": 11,
   "id": "3babf65d-d39d-4223-aa2d-19846b3befd5",
   "metadata": {},
   "outputs": [
    {
     "name": "stderr",
     "output_type": "stream",
     "text": [
      "                                                                                "
     ]
    },
    {
     "data": {
      "image/png": "[encoded data removed]",
      "text/plain": [
       "<Figure size 800x500 with 1 Axes>"
      ]
     },
     "metadata": {},
     "output_type": "display_data"
    },
    {
     "name": "stderr",
     "output_type": "stream",
     "text": [
      "[Stage 22:>                                                         (0 + 1) / 1]"
     ]
    },
    {
     "name": "stdout",
     "output_type": "stream",
     "text": [
      "Valeurs manquantes : 0 / 1804874 (0.00%)\n"
     ]
    },
    {
     "name": "stderr",
     "output_type": "stream",
     "text": [
      "                                                                                "
     ]
    }
   ],
   "source": [
    "describe_col(train, \"target\")"
   ]
  },
  {
   "cell_type": "code",
   "execution_count": 12,
   "id": "3ed72e08-0077-435a-8879-12f3d23b9e8a",
   "metadata": {},
   "outputs": [
    {
     "name": "stderr",
     "output_type": "stream",
     "text": [
      "                                                                                "
     ]
    },
    {
     "data": {
      "image/png": "[encoded data removed]",
      "text/plain": [
       "<Figure size 800x500 with 1 Axes>"
      ]
     },
     "metadata": {},
     "output_type": "display_data"
    },
    {
     "name": "stderr",
     "output_type": "stream",
     "text": [
      "[Stage 29:>                                                         (0 + 1) / 1]"
     ]
    },
    {
     "name": "stdout",
     "output_type": "stream",
     "text": [
      "Valeurs manquantes : 0 / 1804874 (0.00%)\n"
     ]
    },
    {
     "name": "stderr",
     "output_type": "stream",
     "text": [
      "                                                                                "
     ]
    }
   ],
   "source": [
    "describe_col(train, \"severe_toxicity\")"
   ]
  },
  {
   "cell_type": "markdown",
   "id": "72134876-c593-4e15-ae54-60a759c2993b",
   "metadata": {},
   "source": [
    "A faire encore dans cette partie :\n",
    "- étudier les distributions des autres features"
   ]
  },
  {
   "cell_type": "markdown",
   "id": "8861ba70-9a6b-4856-9880-de0a4b6961b2",
   "metadata": {},
   "source": [
    "## 2. Nettoyage et pré-traitement\n",
    "- Nettoyage des commentaires (ponctuation), parsing des commentaires, normalisation, gestion des valeurs manquantes/abérrantes, encodage des features categorielles\n",
    "- Feature Engineering (exemple de features à créer : nombre de mots, présence d’identités)\n"
   ]
  },
  {
   "cell_type": "markdown",
   "id": "3f9b9a77-13d4-4f44-82fc-e3b716a0980c",
   "metadata": {},
   "source": [
    "### 2.1 Prétraitement du texte"
   ]
  },
  {
   "cell_type": "code",
   "execution_count": 13,
   "id": "2fb5e545-c049-4517-89fc-dd648722254e",
   "metadata": {},
   "outputs": [],
   "source": [
    "from pyspark.sql.functions import lower, regexp_replace, monotonically_increasing_id\n",
    "\n",
    "train_std = (\n",
    "    train.filter(train.comment_text.isNotNull())\n",
    "    .withColumn(\"comment_text\", lower(train.comment_text))\n",
    "    .withColumn(\"comment_text\", regexp_replace(\"comment_text\", r\"[^a-zA-Z\\s]\", \"\"))\n",
    "    .withColumn(\"comment_text\", regexp_replace(\"comment_text\", r\"\\s+\", \" \"))\n",
    ")"
   ]
  },
  {
   "cell_type": "code",
   "execution_count": 14,
   "id": "01aa5b80-5aff-4619-8bc4-1472007bff92",
   "metadata": {},
   "outputs": [],
   "source": [
    "from pyspark.sql.functions import monotonically_increasing_id\n",
    "\n",
    "def compare_comments(df1, col1, df2, col2, n=5, truncate_len=60):\n",
    "    \"\"\"\n",
    "    Affiche un Avant/Après prétraitements\n",
    "\n",
    "    Paramètres :\n",
    "    ------------\n",
    "    df1, df2 : DataFrame Spark\n",
    "    col1, col2 : colonnes de DataFrame Spark\n",
    "    n : int\n",
    "        Nombre de lignes à afficher (par défaut 5)\n",
    "    truncate_len : int\n",
    "        Nombre de caractères à afficher avant troncature (par défaut 60)\n",
    "    \"\"\"\n",
    "    \n",
    "    # pour réduire le temps de compil\n",
    "    train_limited = df1.select(col1).limit(n)\n",
    "    train_std_limited = df2.select(col2).limit(n)\n",
    "\n",
    "    # id unique sur chaque df pour jointure\n",
    "    train_with_id = train_limited.withColumn(\"id\", monotonically_increasing_id())\n",
    "    train_std_with_id = train_std_limited.withColumn(\"id\", monotonically_increasing_id())\n",
    "\n",
    "    # inner join sur l'id\n",
    "    compare_df = train_with_id.join(train_std_with_id, on=\"id\", how=\"inner\") \\\n",
    "        .select(train_with_id[col1].alias(\"avant\"),\n",
    "            train_std_with_id[col2].alias(\"après\"))\n",
    "\n",
    "    compare_df.show(truncate=60)\n",
    "\n",
    "    # pour réutilisation éventuelle\n",
    "    return compare_df\n"
   ]
  },
  {
   "cell_type": "code",
   "execution_count": 15,
   "id": "78112333-af3a-41f4-bcc4-7d7264289966",
   "metadata": {},
   "outputs": [
    {
     "name": "stderr",
     "output_type": "stream",
     "text": [
      "[Stage 33:>                                                         (0 + 1) / 1]"
     ]
    },
    {
     "name": "stdout",
     "output_type": "stream",
     "text": [
      "+------------------------------------------------------------+------------------------------------------------------------+\n",
      "|                                                       avant|                                                       après|\n",
      "+------------------------------------------------------------+------------------------------------------------------------+\n",
      "|This is so cool. It's like, 'would you want your mother t...|this is so cool its like would you want your mother to re...|\n",
      "|Thank you!! This would make my life a lot less anxiety-in...|thank you this would make my life a lot less anxietyinduc...|\n",
      "|This is such an urgent design problem; kudos to you for t...|this is such an urgent design problem kudos to you for ta...|\n",
      "|Is this something I'll be able to install on my site? Whe...|is this something ill be able to install on my site when ...|\n",
      "|                        haha you guys are a bunch of losers.|                         haha you guys are a bunch of losers|\n",
      "+------------------------------------------------------------+------------------------------------------------------------+\n",
      "\n"
     ]
    },
    {
     "name": "stderr",
     "output_type": "stream",
     "text": [
      "                                                                                "
     ]
    },
    {
     "data": {
      "text/plain": [
       "DataFrame[avant: string, après: string]"
      ]
     },
     "execution_count": 15,
     "metadata": {},
     "output_type": "execute_result"
    }
   ],
   "source": [
    "compare_comments(train, \"comment_text\", train_std, \"comment_text\") # AVANT/APRES"
   ]
  },
  {
   "cell_type": "markdown",
   "id": "091d4b27-ff7b-4ac6-b985-2eca02bfa899",
   "metadata": {},
   "source": [
    "**Suppression des stop words**\n",
    "\n",
    "Stop words are the words in a stop list (or stoplist or negative dictionary) which are filtered out (\"stopped\") before or after processing of natural language data (i.e. text) because they are deemed to have little semantic value or are otherwise insignificant for the task at hand. \n",
    "\n",
    "« Stop Word ». Wikipedia, 12 août 2025. Wikipedia, https://en.wikipedia.org/w/index.php?title=Stop_word&oldid=1305565804.\n",
    "\n",
    "\n"
   ]
  },
  {
   "cell_type": "code",
   "execution_count": 16,
   "id": "0f6e404f-05cc-4cb0-8317-354cc3c061ca",
   "metadata": {},
   "outputs": [],
   "source": [
    "from pyspark.ml.feature import StopWordsRemover, Tokenizer\n",
    "\n",
    "tokenizer = Tokenizer(inputCol=\"comment_text\", outputCol=\"words\")\n",
    "remover = StopWordsRemover(inputCol=\"words\", outputCol=\"filtered\")\n",
    "\n",
    "words_data = tokenizer.transform(train_std)\n",
    "clean_data = remover.transform(words_data)"
   ]
  },
  {
   "cell_type": "code",
   "execution_count": 17,
   "id": "cb3c4430-dc64-41ad-bd23-dc08aee7bd9f",
   "metadata": {},
   "outputs": [
    {
     "name": "stdout",
     "output_type": "stream",
     "text": [
      "+------------------------------------------------------------+------------------------------------------------------------+\n",
      "|                                                       words|                                                    filtered|\n",
      "+------------------------------------------------------------+------------------------------------------------------------+\n",
      "|[this, is, so, cool, its, like, would, you, want, your, m...|[cool, like, want, mother, read, really, great, idea, wel...|\n",
      "|[thank, you, this, would, make, my, life, a, lot, less, a...|[thank, make, life, lot, less, anxietyinducing, keep, don...|\n",
      "|[this, is, such, an, urgent, design, problem, kudos, to, ...|        [urgent, design, problem, kudos, taking, impressive]|\n",
      "|[is, this, something, ill, be, able, to, install, on, my,...|            [something, ill, able, install, site, releasing]|\n",
      "|                [haha, you, guys, are, a, bunch, of, losers]|                                 [haha, guys, bunch, losers]|\n",
      "+------------------------------------------------------------+------------------------------------------------------------+\n",
      "only showing top 5 rows\n"
     ]
    }
   ],
   "source": [
    "clean_data.select(\"words\", \"filtered\").show(5, truncate=60)"
   ]
  },
  {
   "cell_type": "markdown",
   "id": "065b14dd-edd2-45ca-8df0-73caf07254f1",
   "metadata": {},
   "source": [
    "**Lemmisation**\n",
    "\n",
    "PySpark ML n’a pas de lemmatiseur intégré, on passe donc temporairement en Pandas"
   ]
  },
  {
   "cell_type": "code",
   "execution_count": 26,
   "id": "1296a074-25f0-4f41-8826-1ef681d8aed4",
   "metadata": {},
   "outputs": [
    {
     "name": "stderr",
     "output_type": "stream",
     "text": [
      "[nltk_data] Downloading package wordnet to /home/vboxuser/nltk_data...\n",
      "[nltk_data]   Package wordnet is already up-to-date!\n",
      "[nltk_data] Downloading package omw-1.4 to /home/vboxuser/nltk_data...\n",
      "[nltk_data]   Package omw-1.4 is already up-to-date!\n"
     ]
    }
   ],
   "source": [
    "sample_pd = clean_data.select(\"filtered\").limit(5000).toPandas()\n",
    "\n",
    "import nltk\n",
    "from nltk.stem import WordNetLemmatizer\n",
    "\n",
    "nltk.download(\"wordnet\")\n",
    "nltk.download(\"omw-1.4\")\n",
    "\n",
    "lemm = WordNetLemmatizer()\n",
    "\n",
    "def lemmatize_tokens(tokens):\n",
    "    return [lemm.lemmatize(word) for word in tokens]\n",
    "\n",
    "# on applique sur la colonne filtered\n",
    "sample_pd[\"lemmatized\"] = sample_pd[\"filtered\"].apply(lemmatize_tokens)\n",
    "\n"
   ]
  },
  {
   "cell_type": "code",
   "execution_count": 27,
   "id": "de5b161f-6be9-4e1f-b575-0f58bfb0a802",
   "metadata": {},
   "outputs": [
    {
     "name": "stdout",
     "output_type": "stream",
     "text": [
      "+------------------------------------------------------------+------------------------------------------------------------+\n",
      "|                                                       avant|                                                       après|\n",
      "+------------------------------------------------------------+------------------------------------------------------------+\n",
      "|[cool, like, want, mother, read, really, great, idea, wel...|[cool, like, want, mother, read, really, great, idea, wel...|\n",
      "|[thank, make, life, lot, less, anxietyinducing, keep, don...|[thank, make, life, lot, less, anxietyinducing, keep, don...|\n",
      "|        [urgent, design, problem, kudos, taking, impressive]|        [urgent, design, problem, kudos, taking, impressive]|\n",
      "|            [something, ill, able, install, site, releasing]|            [something, ill, able, install, site, releasing]|\n",
      "|                                 [haha, guys, bunch, losers]|                                   [haha, guy, bunch, loser]|\n",
      "+------------------------------------------------------------+------------------------------------------------------------+\n",
      "\n"
     ]
    },
    {
     "data": {
      "text/plain": [
       "DataFrame[avant: array<string>, après: array<string>]"
      ]
     },
     "execution_count": 27,
     "metadata": {},
     "output_type": "execute_result"
    }
   ],
   "source": [
    "sample_pd[\"clean_text\"] = sample_pd[\"lemmatized\"].apply(lambda x: \" \".join(x))\n",
    "\n",
    "sample_spark = spark.createDataFrame(sample_pd[:10]) #on repasse en pyspark pour la comparaison\n",
    "\n",
    "compare_comments(clean_data.limit(10), \"filtered\", sample_spark.limit(10), \"lemmatized\", n=5 ) # AVANT/APRES"
   ]
  },
  {
   "cell_type": "markdown",
   "id": "813ef33f-dcdf-4e46-b621-632d1eee2257",
   "metadata": {},
   "source": [
    "**Variante du Lemming — Stemming**\n",
    "\n",
    "On tronque simplement la fin du mot --> plus rapide mais plus susceptible de perdre de l'information"
   ]
  },
  {
   "cell_type": "code",
   "execution_count": 28,
   "id": "197dd48e-de02-469b-843c-91badca0fda5",
   "metadata": {},
   "outputs": [],
   "source": [
    "from nltk.stem import PorterStemmer\n",
    "\n",
    "stemmer = PorterStemmer()\n",
    "\n",
    "def stem_tokens(tokens):\n",
    "    return [stemmer.stem(word) for word in tokens]\n",
    "\n",
    "sample_pd[\"stemmed\"] = sample_pd[\"filtered\"].apply(stem_tokens)"
   ]
  },
  {
   "cell_type": "code",
   "execution_count": 29,
   "id": "a16153ff-a4bb-40aa-875d-5b8432595782",
   "metadata": {},
   "outputs": [
    {
     "data": {
      "text/html": [
       "<div>\n",
       "<style scoped>\n",
       "    .dataframe tbody tr th:only-of-type {\n",
       "        vertical-align: middle;\n",
       "    }\n",
       "\n",
       "    .dataframe tbody tr th {\n",
       "        vertical-align: top;\n",
       "    }\n",
       "\n",
       "    .dataframe thead th {\n",
       "        text-align: right;\n",
       "    }\n",
       "</style>\n",
       "<table border=\"1\" class=\"dataframe\">\n",
       "  <thead>\n",
       "    <tr style=\"text-align: right;\">\n",
       "      <th></th>\n",
       "      <th>filtered</th>\n",
       "      <th>lemmatized</th>\n",
       "      <th>clean_text</th>\n",
       "      <th>stemmed</th>\n",
       "    </tr>\n",
       "  </thead>\n",
       "  <tbody>\n",
       "    <tr>\n",
       "      <th>0</th>\n",
       "      <td>[cool, like, want, mother, read, really, great...</td>\n",
       "      <td>[cool, like, want, mother, read, really, great...</td>\n",
       "      <td>cool like want mother read really great idea w...</td>\n",
       "      <td>[cool, like, want, mother, read, realli, great...</td>\n",
       "    </tr>\n",
       "    <tr>\n",
       "      <th>1</th>\n",
       "      <td>[thank, make, life, lot, less, anxietyinducing...</td>\n",
       "      <td>[thank, make, life, lot, less, anxietyinducing...</td>\n",
       "      <td>thank make life lot less anxietyinducing keep ...</td>\n",
       "      <td>[thank, make, life, lot, less, anxietyinduc, k...</td>\n",
       "    </tr>\n",
       "    <tr>\n",
       "      <th>2</th>\n",
       "      <td>[urgent, design, problem, kudos, taking, impre...</td>\n",
       "      <td>[urgent, design, problem, kudos, taking, impre...</td>\n",
       "      <td>urgent design problem kudos taking impressive</td>\n",
       "      <td>[urgent, design, problem, kudo, take, impress]</td>\n",
       "    </tr>\n",
       "    <tr>\n",
       "      <th>3</th>\n",
       "      <td>[something, ill, able, install, site, releasing]</td>\n",
       "      <td>[something, ill, able, install, site, releasing]</td>\n",
       "      <td>something ill able install site releasing</td>\n",
       "      <td>[someth, ill, abl, instal, site, releas]</td>\n",
       "    </tr>\n",
       "    <tr>\n",
       "      <th>4</th>\n",
       "      <td>[haha, guys, bunch, losers]</td>\n",
       "      <td>[haha, guy, bunch, loser]</td>\n",
       "      <td>haha guy bunch loser</td>\n",
       "      <td>[haha, guy, bunch, loser]</td>\n",
       "    </tr>\n",
       "  </tbody>\n",
       "</table>\n",
       "</div>"
      ],
      "text/plain": [
       "                                            filtered  \\\n",
       "0  [cool, like, want, mother, read, really, great...   \n",
       "1  [thank, make, life, lot, less, anxietyinducing...   \n",
       "2  [urgent, design, problem, kudos, taking, impre...   \n",
       "3   [something, ill, able, install, site, releasing]   \n",
       "4                        [haha, guys, bunch, losers]   \n",
       "\n",
       "                                          lemmatized  \\\n",
       "0  [cool, like, want, mother, read, really, great...   \n",
       "1  [thank, make, life, lot, less, anxietyinducing...   \n",
       "2  [urgent, design, problem, kudos, taking, impre...   \n",
       "3   [something, ill, able, install, site, releasing]   \n",
       "4                          [haha, guy, bunch, loser]   \n",
       "\n",
       "                                          clean_text  \\\n",
       "0  cool like want mother read really great idea w...   \n",
       "1  thank make life lot less anxietyinducing keep ...   \n",
       "2      urgent design problem kudos taking impressive   \n",
       "3          something ill able install site releasing   \n",
       "4                               haha guy bunch loser   \n",
       "\n",
       "                                             stemmed  \n",
       "0  [cool, like, want, mother, read, realli, great...  \n",
       "1  [thank, make, life, lot, less, anxietyinduc, k...  \n",
       "2     [urgent, design, problem, kudo, take, impress]  \n",
       "3           [someth, ill, abl, instal, site, releas]  \n",
       "4                          [haha, guy, bunch, loser]  "
      ]
     },
     "execution_count": 29,
     "metadata": {},
     "output_type": "execute_result"
    }
   ],
   "source": [
    "sample_pd.head()"
   ]
  },
  {
   "cell_type": "code",
   "execution_count": 30,
   "id": "9e798184-ce1a-466b-a784-9d9055d1695e",
   "metadata": {},
   "outputs": [
    {
     "name": "stdout",
     "output_type": "stream",
     "text": [
      "7 lignes vides supprimées (sur 5000 initiales).\n"
     ]
    }
   ],
   "source": [
    "initial_count = len(sample_pd)\n",
    "\n",
    "sample_pd = sample_pd[\n",
    "    sample_pd[\"clean_text\"].notna() &                    # non null\n",
    "    sample_pd[\"clean_text\"].astype(str).str.strip().ne(\"\") &  # pas juste des espaces\n",
    "    (sample_pd[\"clean_text\"].astype(str) != \"[]\")        # pas liste vide\n",
    "]\n",
    "\n",
    "final_count = len(sample_pd)\n",
    "\n",
    "removed = initial_count - final_count\n",
    "print(f\"{removed} lignes vides supprimées (sur {initial_count} initiales).\")\n"
   ]
  }
 ],
 "metadata": {
  "kernelspec": {
   "display_name": "Python 3 (ipykernel)",
   "language": "python",
   "name": "python3"
  },
  "language_info": {
   "codemirror_mode": {
    "name": "ipython",
    "version": 3
   },
   "file_extension": ".py",
   "mimetype": "text/x-python",
   "name": "python",
   "nbconvert_exporter": "python",
   "pygments_lexer": "ipython3",
   "version": "3.13.5"
  }
 },
 "nbformat": 4,
 "nbformat_minor": 5
}
